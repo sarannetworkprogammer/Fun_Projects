{
  "nbformat": 4,
  "nbformat_minor": 0,
  "metadata": {
    "colab": {
      "provenance": [],
      "authorship_tag": "ABX9TyP6lWyFENru3Kjo6RzLwCj4",
      "include_colab_link": true
    },
    "kernelspec": {
      "name": "python3",
      "display_name": "Python 3"
    },
    "language_info": {
      "name": "python"
    }
  },
  "cells": [
    {
      "cell_type": "markdown",
      "metadata": {
        "id": "view-in-github",
        "colab_type": "text"
      },
      "source": [
        "<a href=\"https://colab.research.google.com/github/sarannetworkprogammer/Fun_Projects/blob/main/Fake_profile/fake_profile.ipynb\" target=\"_parent\"><img src=\"https://colab.research.google.com/assets/colab-badge.svg\" alt=\"Open In Colab\"/></a>"
      ]
    },
    {
      "cell_type": "markdown",
      "source": [
        "Basically it create  5 fake profiles"
      ],
      "metadata": {
        "id": "70noy_mqMVcL"
      }
    },
    {
      "cell_type": "code",
      "execution_count": 11,
      "metadata": {
        "colab": {
          "base_uri": "https://localhost:8080/"
        },
        "id": "ug0Sxr-hFdOJ",
        "outputId": "ad8030fe-8251-40b4-8dc5-ef854f35a3b5"
      },
      "outputs": [
        {
          "output_type": "stream",
          "name": "stdout",
          "text": [
            "         date               name                      email  \\\n",
            "0  1996-12-25        Eric Glover     wagnerjohn@example.org   \n",
            "1  1970-01-30   Zachary Sullivan        tconrad@example.org   \n",
            "2  2011-06-02       Haley Herman  shannonbarnes@example.net   \n",
            "3  1998-06-19  Brittney Richmond          kfrey@example.org   \n",
            "4  1983-05-10      Whitney Baker       joshua75@example.org   \n",
            "\n",
            "                                                text  \n",
            "0  Accept white almost owner senior production. P...  \n",
            "1  Provide effect cell certainly local drive hear...  \n",
            "2  Figure officer be spend score art throw assume...  \n",
            "3  Meeting culture view option develop. Around au...  \n",
            "4  Customer Republican doctor training. Kitchen c...  \n"
          ]
        }
      ],
      "source": [
        "\n",
        "import pandas as pd\n",
        "from faker import Faker\n",
        "\n",
        "# Create object\n",
        "fake = Faker()\n",
        "\n",
        "# Generate data\n",
        "fake.name()\n",
        "fake.text()\n",
        "fake.address()\n",
        "fake.email()\n",
        "fake.date()\n",
        "fake.country()\n",
        "fake.phone_number()\n",
        "fake.random_number(digits=5)\n",
        "\n",
        "# Dataframe creation\n",
        "fakeDataframe = pd.DataFrame({'date':[fake.date() for i in range(5)],\n",
        " 'name':[fake.name() for i in range(5)],\n",
        " 'email':[fake.email() for i in range(5)],\n",
        " 'text':[fake.text() for i in range(5)]})\n",
        "print(fakeDataframe)"
      ]
    },
    {
      "cell_type": "markdown",
      "source": [],
      "metadata": {
        "id": "zd5iRXazMVU8"
      }
    }
  ]
}