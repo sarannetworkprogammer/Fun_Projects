{
  "nbformat": 4,
  "nbformat_minor": 0,
  "metadata": {
    "colab": {
      "provenance": [],
      "authorship_tag": "ABX9TyMsAfitfYXBgzjz4JcBk2ol",
      "include_colab_link": true
    },
    "kernelspec": {
      "name": "python3",
      "display_name": "Python 3"
    },
    "language_info": {
      "name": "python"
    }
  },
  "cells": [
    {
      "cell_type": "markdown",
      "metadata": {
        "id": "view-in-github",
        "colab_type": "text"
      },
      "source": [
        "<a href=\"https://colab.research.google.com/github/sarannetworkprogammer/Fun_Projects/blob/main/Youtube/youtube_download.ipynb\" target=\"_parent\"><img src=\"https://colab.research.google.com/assets/colab-badge.svg\" alt=\"Open In Colab\"/></a>"
      ]
    },
    {
      "cell_type": "markdown",
      "source": [
        "Basically it create  5 fake profiles"
      ],
      "metadata": {
        "id": "70noy_mqMVcL"
      }
    },
    {
      "cell_type": "code",
      "execution_count": 15,
      "metadata": {
        "id": "ug0Sxr-hFdOJ",
        "colab": {
          "base_uri": "https://localhost:8080/"
        },
        "outputId": "a016b70c-3461-4f83-e5fb-ef79577e1f84"
      },
      "outputs": [
        {
          "output_type": "stream",
          "name": "stdout",
          "text": [
            "Looking in indexes: https://pypi.org/simple, https://us-python.pkg.dev/colab-wheels/public/simple/\n",
            "Requirement already satisfied: pytube in /usr/local/lib/python3.8/dist-packages (12.1.2)\n",
            "Enter a youtube video's URLhttps://www.youtube.com/watch?v=7m0p8EFy3Pw\n",
            "downloaded https://www.youtube.com/watch?v=7m0p8EFy3Pw\n"
          ]
        }
      ],
      "source": [
        "\n",
        "\n",
        "from pytube import YouTube\n",
        "\n",
        "link = input(\"Enter a youtube video's URL\") # i.e. https://youtu.be/dQw4w9WgXcQ\n",
        "\n",
        "yt = YouTube('http://youtube.com/watch?v=9bZkp7q19f0')\n",
        "yt.streams.first().download()\n",
        "\n",
        "print(\"downloaded\", link)"
      ]
    },
    {
      "cell_type": "markdown",
      "source": [],
      "metadata": {
        "id": "zd5iRXazMVU8"
      }
    }
  ]
}