{
  "nbformat": 4,
  "nbformat_minor": 0,
  "metadata": {
    "colab": {
      "provenance": [],
      "authorship_tag": "ABX9TyOxoxbNZsKTt0ANH5A7PIt3",
      "include_colab_link": true
    },
    "kernelspec": {
      "name": "python3",
      "display_name": "Python 3"
    },
    "language_info": {
      "name": "python"
    }
  },
  "cells": [
    {
      "cell_type": "markdown",
      "metadata": {
        "id": "view-in-github",
        "colab_type": "text"
      },
      "source": [
        "<a href=\"https://colab.research.google.com/github/sarannetworkprogammer/Fun_Projects/blob/main/Login_selenium/Login_selenium.ipynb\" target=\"_parent\"><img src=\"https://colab.research.google.com/assets/colab-badge.svg\" alt=\"Open In Colab\"/></a>"
      ]
    },
    {
      "cell_type": "code",
      "execution_count": null,
      "metadata": {
        "id": "G6Rq0EO3QFKh"
      },
      "outputs": [],
      "source": [
        "# social meida authentication\n",
        "\n",
        "from selenium import webdriver\n",
        "\n",
        "\n",
        "driver = webdriver.Chrome('./chromedriver')\n",
        "driver.get(\"https://www.facebook.com/\")\n",
        "\n",
        "# Find the email or phone field and enter the email or phone number\n",
        "email_field = driver.find_element_by_id(\"email\")\n",
        "email_field.send_keys(\"your_email_or_phone\")\n",
        "\n",
        "# Find the password field and enter the password\n",
        "password_field = driver.find_element_by_id(\"pass\")\n",
        "password_field.send_keys(\"your_password\")\n",
        "\n",
        "# Find the login button and click it\n",
        "login_button = driver.find_element_by_id(\"loginbutton\")\n",
        "login_button.click()"
      ]
    }
  ]
}